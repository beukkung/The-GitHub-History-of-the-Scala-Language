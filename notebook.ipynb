{
 "cells": [
  {
   "cell_type": "markdown",
   "id": "89d06f85",
   "metadata": {
    "dc": {
     "key": "5"
    },
    "deletable": false,
    "editable": false,
    "run_control": {
     "frozen": true
    },
    "tags": [
     "context"
    ]
   },
   "source": [
    "## 1. Scala's real-world project repository data\n",
    "<p>With almost 30k commits and a history spanning over ten years, Scala is a mature programming language. It is a general-purpose programming language that has recently become another prominent language for data scientists.</p>\n",
    "<p>Scala is also an open source project. Open source projects have the advantage that their entire development histories -- who made changes, what was changed, code reviews, etc. -- are publicly available. </p>\n",
    "<p>We're going to read in, clean up, and visualize the real world project repository of Scala that spans data from a version control system (Git) as well as a project hosting site (GitHub). We will find out who has had the most influence on its development and who are the experts.</p>\n",
    "<p>The dataset we will use, which has been previously mined and extracted from GitHub, is comprised of three files:</p>\n",
    "<ol>\n",
    "<li><code>pulls_2011-2013.csv</code> contains the basic information about the pull requests, and spans from the end of 2011 up to (but not including) 2014.</li>\n",
    "<li><code>pulls_2014-2018.csv</code> contains identical information, and spans from 2014 up to 2018.</li>\n",
    "<li><code>pull_files.csv</code> contains the files that were modified by each pull request.</li>\n",
    "</ol>"
   ]
  },
  {
   "cell_type": "code",
   "execution_count": 24,
   "id": "427d0c8a",
   "metadata": {
    "dc": {
     "key": "5"
    },
    "tags": [
     "sample_code"
    ]
   },
   "outputs": [
    {
     "data": {
      "text/html": [
       "<div>\n",
       "<style scoped>\n",
       "    .dataframe tbody tr th:only-of-type {\n",
       "        vertical-align: middle;\n",
       "    }\n",
       "\n",
       "    .dataframe tbody tr th {\n",
       "        vertical-align: top;\n",
       "    }\n",
       "\n",
       "    .dataframe thead th {\n",
       "        text-align: right;\n",
       "    }\n",
       "</style>\n",
       "<table border=\"1\" class=\"dataframe\">\n",
       "  <thead>\n",
       "    <tr style=\"text-align: right;\">\n",
       "      <th></th>\n",
       "      <th>pid</th>\n",
       "      <th>user</th>\n",
       "      <th>date</th>\n",
       "    </tr>\n",
       "  </thead>\n",
       "  <tbody>\n",
       "    <tr>\n",
       "      <th>0</th>\n",
       "      <td>163314316</td>\n",
       "      <td>hrhino</td>\n",
       "      <td>2018-01-16T23:29:16Z</td>\n",
       "    </tr>\n",
       "    <tr>\n",
       "      <th>1</th>\n",
       "      <td>163061502</td>\n",
       "      <td>joroKr21</td>\n",
       "      <td>2018-01-15T23:44:52Z</td>\n",
       "    </tr>\n",
       "    <tr>\n",
       "      <th>2</th>\n",
       "      <td>163057333</td>\n",
       "      <td>mkeskells</td>\n",
       "      <td>2018-01-15T23:05:06Z</td>\n",
       "    </tr>\n",
       "    <tr>\n",
       "      <th>3</th>\n",
       "      <td>162985594</td>\n",
       "      <td>lrytz</td>\n",
       "      <td>2018-01-15T15:52:39Z</td>\n",
       "    </tr>\n",
       "    <tr>\n",
       "      <th>4</th>\n",
       "      <td>162838837</td>\n",
       "      <td>zuvizudar</td>\n",
       "      <td>2018-01-14T19:16:16Z</td>\n",
       "    </tr>\n",
       "    <tr>\n",
       "      <th>5</th>\n",
       "      <td>162765232</td>\n",
       "      <td>howtonotwin</td>\n",
       "      <td>2018-01-13T04:37:17Z</td>\n",
       "    </tr>\n",
       "    <tr>\n",
       "      <th>6</th>\n",
       "      <td>162643301</td>\n",
       "      <td>hrhino</td>\n",
       "      <td>2018-01-12T14:29:49Z</td>\n",
       "    </tr>\n",
       "    <tr>\n",
       "      <th>7</th>\n",
       "      <td>162256029</td>\n",
       "      <td>mkeskells</td>\n",
       "      <td>2018-01-10T23:20:03Z</td>\n",
       "    </tr>\n",
       "    <tr>\n",
       "      <th>8</th>\n",
       "      <td>162197834</td>\n",
       "      <td>SethTisue</td>\n",
       "      <td>2018-01-10T18:31:25Z</td>\n",
       "    </tr>\n",
       "    <tr>\n",
       "      <th>9</th>\n",
       "      <td>162011899</td>\n",
       "      <td>joroKr21</td>\n",
       "      <td>2018-01-10T00:45:57Z</td>\n",
       "    </tr>\n",
       "    <tr>\n",
       "      <th>10</th>\n",
       "      <td>162009313</td>\n",
       "      <td>SethTisue</td>\n",
       "      <td>2018-01-10T00:23:34Z</td>\n",
       "    </tr>\n",
       "    <tr>\n",
       "      <th>11</th>\n",
       "      <td>162003773</td>\n",
       "      <td>SethTisue</td>\n",
       "      <td>2018-01-09T23:40:55Z</td>\n",
       "    </tr>\n",
       "    <tr>\n",
       "      <th>12</th>\n",
       "      <td>161996531</td>\n",
       "      <td>hrhino</td>\n",
       "      <td>2018-01-09T22:54:03Z</td>\n",
       "    </tr>\n",
       "    <tr>\n",
       "      <th>13</th>\n",
       "      <td>161993479</td>\n",
       "      <td>SethTisue</td>\n",
       "      <td>2018-01-09T22:36:47Z</td>\n",
       "    </tr>\n",
       "    <tr>\n",
       "      <th>14</th>\n",
       "      <td>161752108</td>\n",
       "      <td>hrhino</td>\n",
       "      <td>2018-01-08T23:32:26Z</td>\n",
       "    </tr>\n",
       "    <tr>\n",
       "      <th>15</th>\n",
       "      <td>161750322</td>\n",
       "      <td>som-snytt</td>\n",
       "      <td>2018-01-08T23:20:00Z</td>\n",
       "    </tr>\n",
       "    <tr>\n",
       "      <th>16</th>\n",
       "      <td>161545073</td>\n",
       "      <td>svatsan</td>\n",
       "      <td>2018-01-07T23:45:21Z</td>\n",
       "    </tr>\n",
       "    <tr>\n",
       "      <th>17</th>\n",
       "      <td>161491269</td>\n",
       "      <td>howtonotwin</td>\n",
       "      <td>2018-01-06T18:52:25Z</td>\n",
       "    </tr>\n",
       "    <tr>\n",
       "      <th>18</th>\n",
       "      <td>161406633</td>\n",
       "      <td>ashawley</td>\n",
       "      <td>2018-01-05T19:09:13Z</td>\n",
       "    </tr>\n",
       "    <tr>\n",
       "      <th>19</th>\n",
       "      <td>161236235</td>\n",
       "      <td>som-snytt</td>\n",
       "      <td>2018-01-04T22:56:41Z</td>\n",
       "    </tr>\n",
       "    <tr>\n",
       "      <th>20</th>\n",
       "      <td>161046157</td>\n",
       "      <td>howtonotwin</td>\n",
       "      <td>2018-01-04T03:28:54Z</td>\n",
       "    </tr>\n",
       "    <tr>\n",
       "      <th>21</th>\n",
       "      <td>160969081</td>\n",
       "      <td>naferx</td>\n",
       "      <td>2018-01-03T18:13:06Z</td>\n",
       "    </tr>\n",
       "    <tr>\n",
       "      <th>22</th>\n",
       "      <td>160659200</td>\n",
       "      <td>rcoh</td>\n",
       "      <td>2018-01-01T20:18:47Z</td>\n",
       "    </tr>\n",
       "    <tr>\n",
       "      <th>23</th>\n",
       "      <td>160628967</td>\n",
       "      <td>som-snytt</td>\n",
       "      <td>2017-12-31T19:46:37Z</td>\n",
       "    </tr>\n",
       "    <tr>\n",
       "      <th>24</th>\n",
       "      <td>160607241</td>\n",
       "      <td>hrhino</td>\n",
       "      <td>2017-12-31T02:03:53Z</td>\n",
       "    </tr>\n",
       "    <tr>\n",
       "      <th>25</th>\n",
       "      <td>160486436</td>\n",
       "      <td>som-snytt</td>\n",
       "      <td>2017-12-29T08:19:09Z</td>\n",
       "    </tr>\n",
       "    <tr>\n",
       "      <th>26</th>\n",
       "      <td>160465311</td>\n",
       "      <td>som-snytt</td>\n",
       "      <td>2017-12-29T02:24:06Z</td>\n",
       "    </tr>\n",
       "    <tr>\n",
       "      <th>27</th>\n",
       "      <td>160325010</td>\n",
       "      <td>ashawley</td>\n",
       "      <td>2017-12-28T02:24:52Z</td>\n",
       "    </tr>\n",
       "    <tr>\n",
       "      <th>28</th>\n",
       "      <td>159955300</td>\n",
       "      <td>som-snytt</td>\n",
       "      <td>2017-12-23T03:38:45Z</td>\n",
       "    </tr>\n",
       "    <tr>\n",
       "      <th>29</th>\n",
       "      <td>159882248</td>\n",
       "      <td>jbrower2</td>\n",
       "      <td>2017-12-22T14:57:13Z</td>\n",
       "    </tr>\n",
       "    <tr>\n",
       "      <th>...</th>\n",
       "      <td>...</td>\n",
       "      <td>...</td>\n",
       "      <td>...</td>\n",
       "    </tr>\n",
       "    <tr>\n",
       "      <th>2874</th>\n",
       "      <td>11419485</td>\n",
       "      <td>som-snytt</td>\n",
       "      <td>2014-01-10T22:31:45Z</td>\n",
       "    </tr>\n",
       "    <tr>\n",
       "      <th>2875</th>\n",
       "      <td>11399439</td>\n",
       "      <td>xeno-by</td>\n",
       "      <td>2014-01-10T12:59:16Z</td>\n",
       "    </tr>\n",
       "    <tr>\n",
       "      <th>2876</th>\n",
       "      <td>11394591</td>\n",
       "      <td>retronym</td>\n",
       "      <td>2014-01-10T09:50:33Z</td>\n",
       "    </tr>\n",
       "    <tr>\n",
       "      <th>2877</th>\n",
       "      <td>11394178</td>\n",
       "      <td>dotta</td>\n",
       "      <td>2014-01-10T09:33:51Z</td>\n",
       "    </tr>\n",
       "    <tr>\n",
       "      <th>2878</th>\n",
       "      <td>11385248</td>\n",
       "      <td>xeno-by</td>\n",
       "      <td>2014-01-10T00:36:25Z</td>\n",
       "    </tr>\n",
       "    <tr>\n",
       "      <th>2879</th>\n",
       "      <td>11381400</td>\n",
       "      <td>retronym</td>\n",
       "      <td>2014-01-09T22:29:48Z</td>\n",
       "    </tr>\n",
       "    <tr>\n",
       "      <th>2880</th>\n",
       "      <td>11381152</td>\n",
       "      <td>retronym</td>\n",
       "      <td>2014-01-09T22:23:00Z</td>\n",
       "    </tr>\n",
       "    <tr>\n",
       "      <th>2881</th>\n",
       "      <td>11359667</td>\n",
       "      <td>retronym</td>\n",
       "      <td>2014-01-09T13:03:14Z</td>\n",
       "    </tr>\n",
       "    <tr>\n",
       "      <th>2882</th>\n",
       "      <td>11341266</td>\n",
       "      <td>jamesward</td>\n",
       "      <td>2014-01-08T22:43:16Z</td>\n",
       "    </tr>\n",
       "    <tr>\n",
       "      <th>2883</th>\n",
       "      <td>11339243</td>\n",
       "      <td>som-snytt</td>\n",
       "      <td>2014-01-08T21:14:49Z</td>\n",
       "    </tr>\n",
       "    <tr>\n",
       "      <th>2884</th>\n",
       "      <td>11336879</td>\n",
       "      <td>xeno-by</td>\n",
       "      <td>2014-01-08T20:10:09Z</td>\n",
       "    </tr>\n",
       "    <tr>\n",
       "      <th>2885</th>\n",
       "      <td>11336054</td>\n",
       "      <td>xuwei-k</td>\n",
       "      <td>2014-01-08T19:49:16Z</td>\n",
       "    </tr>\n",
       "    <tr>\n",
       "      <th>2886</th>\n",
       "      <td>11333502</td>\n",
       "      <td>huitseeker</td>\n",
       "      <td>2014-01-08T18:43:10Z</td>\n",
       "    </tr>\n",
       "    <tr>\n",
       "      <th>2887</th>\n",
       "      <td>11329094</td>\n",
       "      <td>soc</td>\n",
       "      <td>2014-01-08T16:46:06Z</td>\n",
       "    </tr>\n",
       "    <tr>\n",
       "      <th>2888</th>\n",
       "      <td>11326348</td>\n",
       "      <td>gourlaysama</td>\n",
       "      <td>2014-01-08T15:40:07Z</td>\n",
       "    </tr>\n",
       "    <tr>\n",
       "      <th>2889</th>\n",
       "      <td>11325601</td>\n",
       "      <td>dotta</td>\n",
       "      <td>2014-01-08T15:21:28Z</td>\n",
       "    </tr>\n",
       "    <tr>\n",
       "      <th>2890</th>\n",
       "      <td>11325199</td>\n",
       "      <td>OlivierBlanvillain</td>\n",
       "      <td>2014-01-08T15:12:00Z</td>\n",
       "    </tr>\n",
       "    <tr>\n",
       "      <th>2891</th>\n",
       "      <td>11311936</td>\n",
       "      <td>swartzrock</td>\n",
       "      <td>2014-01-08T05:22:36Z</td>\n",
       "    </tr>\n",
       "    <tr>\n",
       "      <th>2892</th>\n",
       "      <td>11311477</td>\n",
       "      <td>som-snytt</td>\n",
       "      <td>2014-01-08T04:40:57Z</td>\n",
       "    </tr>\n",
       "    <tr>\n",
       "      <th>2893</th>\n",
       "      <td>11305219</td>\n",
       "      <td>gourlaysama</td>\n",
       "      <td>2014-01-07T23:19:34Z</td>\n",
       "    </tr>\n",
       "    <tr>\n",
       "      <th>2894</th>\n",
       "      <td>11289742</td>\n",
       "      <td>xeno-by</td>\n",
       "      <td>2014-01-07T16:14:56Z</td>\n",
       "    </tr>\n",
       "    <tr>\n",
       "      <th>2895</th>\n",
       "      <td>11283803</td>\n",
       "      <td>retronym</td>\n",
       "      <td>2014-01-07T13:09:20Z</td>\n",
       "    </tr>\n",
       "    <tr>\n",
       "      <th>2896</th>\n",
       "      <td>11246145</td>\n",
       "      <td>retronym</td>\n",
       "      <td>2014-01-06T10:46:03Z</td>\n",
       "    </tr>\n",
       "    <tr>\n",
       "      <th>2897</th>\n",
       "      <td>11245828</td>\n",
       "      <td>retronym</td>\n",
       "      <td>2014-01-06T10:30:44Z</td>\n",
       "    </tr>\n",
       "    <tr>\n",
       "      <th>2898</th>\n",
       "      <td>11245823</td>\n",
       "      <td>retronym</td>\n",
       "      <td>2014-01-06T10:30:32Z</td>\n",
       "    </tr>\n",
       "    <tr>\n",
       "      <th>2899</th>\n",
       "      <td>11244241</td>\n",
       "      <td>folone</td>\n",
       "      <td>2014-01-06T09:07:34Z</td>\n",
       "    </tr>\n",
       "    <tr>\n",
       "      <th>2900</th>\n",
       "      <td>11240674</td>\n",
       "      <td>clhodapp</td>\n",
       "      <td>2014-01-06T03:52:23Z</td>\n",
       "    </tr>\n",
       "    <tr>\n",
       "      <th>2901</th>\n",
       "      <td>11234757</td>\n",
       "      <td>xeno-by</td>\n",
       "      <td>2014-01-05T12:23:24Z</td>\n",
       "    </tr>\n",
       "    <tr>\n",
       "      <th>2902</th>\n",
       "      <td>11231462</td>\n",
       "      <td>rklaehn</td>\n",
       "      <td>2014-01-04T22:42:02Z</td>\n",
       "    </tr>\n",
       "    <tr>\n",
       "      <th>2903</th>\n",
       "      <td>11188295</td>\n",
       "      <td>rklaehn</td>\n",
       "      <td>2014-01-02T18:55:33Z</td>\n",
       "    </tr>\n",
       "  </tbody>\n",
       "</table>\n",
       "<p>2904 rows × 3 columns</p>\n",
       "</div>"
      ],
      "text/plain": [
       "            pid                user                  date\n",
       "0     163314316              hrhino  2018-01-16T23:29:16Z\n",
       "1     163061502            joroKr21  2018-01-15T23:44:52Z\n",
       "2     163057333           mkeskells  2018-01-15T23:05:06Z\n",
       "3     162985594               lrytz  2018-01-15T15:52:39Z\n",
       "4     162838837           zuvizudar  2018-01-14T19:16:16Z\n",
       "5     162765232         howtonotwin  2018-01-13T04:37:17Z\n",
       "6     162643301              hrhino  2018-01-12T14:29:49Z\n",
       "7     162256029           mkeskells  2018-01-10T23:20:03Z\n",
       "8     162197834           SethTisue  2018-01-10T18:31:25Z\n",
       "9     162011899            joroKr21  2018-01-10T00:45:57Z\n",
       "10    162009313           SethTisue  2018-01-10T00:23:34Z\n",
       "11    162003773           SethTisue  2018-01-09T23:40:55Z\n",
       "12    161996531              hrhino  2018-01-09T22:54:03Z\n",
       "13    161993479           SethTisue  2018-01-09T22:36:47Z\n",
       "14    161752108              hrhino  2018-01-08T23:32:26Z\n",
       "15    161750322           som-snytt  2018-01-08T23:20:00Z\n",
       "16    161545073             svatsan  2018-01-07T23:45:21Z\n",
       "17    161491269         howtonotwin  2018-01-06T18:52:25Z\n",
       "18    161406633            ashawley  2018-01-05T19:09:13Z\n",
       "19    161236235           som-snytt  2018-01-04T22:56:41Z\n",
       "20    161046157         howtonotwin  2018-01-04T03:28:54Z\n",
       "21    160969081              naferx  2018-01-03T18:13:06Z\n",
       "22    160659200                rcoh  2018-01-01T20:18:47Z\n",
       "23    160628967           som-snytt  2017-12-31T19:46:37Z\n",
       "24    160607241              hrhino  2017-12-31T02:03:53Z\n",
       "25    160486436           som-snytt  2017-12-29T08:19:09Z\n",
       "26    160465311           som-snytt  2017-12-29T02:24:06Z\n",
       "27    160325010            ashawley  2017-12-28T02:24:52Z\n",
       "28    159955300           som-snytt  2017-12-23T03:38:45Z\n",
       "29    159882248            jbrower2  2017-12-22T14:57:13Z\n",
       "...         ...                 ...                   ...\n",
       "2874   11419485           som-snytt  2014-01-10T22:31:45Z\n",
       "2875   11399439             xeno-by  2014-01-10T12:59:16Z\n",
       "2876   11394591            retronym  2014-01-10T09:50:33Z\n",
       "2877   11394178               dotta  2014-01-10T09:33:51Z\n",
       "2878   11385248             xeno-by  2014-01-10T00:36:25Z\n",
       "2879   11381400            retronym  2014-01-09T22:29:48Z\n",
       "2880   11381152            retronym  2014-01-09T22:23:00Z\n",
       "2881   11359667            retronym  2014-01-09T13:03:14Z\n",
       "2882   11341266           jamesward  2014-01-08T22:43:16Z\n",
       "2883   11339243           som-snytt  2014-01-08T21:14:49Z\n",
       "2884   11336879             xeno-by  2014-01-08T20:10:09Z\n",
       "2885   11336054             xuwei-k  2014-01-08T19:49:16Z\n",
       "2886   11333502          huitseeker  2014-01-08T18:43:10Z\n",
       "2887   11329094                 soc  2014-01-08T16:46:06Z\n",
       "2888   11326348         gourlaysama  2014-01-08T15:40:07Z\n",
       "2889   11325601               dotta  2014-01-08T15:21:28Z\n",
       "2890   11325199  OlivierBlanvillain  2014-01-08T15:12:00Z\n",
       "2891   11311936          swartzrock  2014-01-08T05:22:36Z\n",
       "2892   11311477           som-snytt  2014-01-08T04:40:57Z\n",
       "2893   11305219         gourlaysama  2014-01-07T23:19:34Z\n",
       "2894   11289742             xeno-by  2014-01-07T16:14:56Z\n",
       "2895   11283803            retronym  2014-01-07T13:09:20Z\n",
       "2896   11246145            retronym  2014-01-06T10:46:03Z\n",
       "2897   11245828            retronym  2014-01-06T10:30:44Z\n",
       "2898   11245823            retronym  2014-01-06T10:30:32Z\n",
       "2899   11244241              folone  2014-01-06T09:07:34Z\n",
       "2900   11240674            clhodapp  2014-01-06T03:52:23Z\n",
       "2901   11234757             xeno-by  2014-01-05T12:23:24Z\n",
       "2902   11231462             rklaehn  2014-01-04T22:42:02Z\n",
       "2903   11188295             rklaehn  2014-01-02T18:55:33Z\n",
       "\n",
       "[2904 rows x 3 columns]"
      ]
     },
     "execution_count": 24,
     "metadata": {},
     "output_type": "execute_result"
    }
   ],
   "source": [
    "# Importing pandas\n",
    "import pandas as pd\n",
    "\n",
    "# Loading in the data\n",
    "pulls_one = pd.read_csv('datasets/pulls_2011-2013.csv')\n",
    "pulls_two = pd.read_csv('datasets/pulls_2014-2018.csv')\n",
    "pull_files = pd.read_csv('datasets/pull_files.csv')\n",
    "pulls_two"
   ]
  },
  {
   "cell_type": "markdown",
   "id": "451574ce",
   "metadata": {
    "dc": {
     "key": "12"
    },
    "deletable": false,
    "editable": false,
    "run_control": {
     "frozen": true
    },
    "tags": [
     "context"
    ]
   },
   "source": [
    "## 2. Preparing and cleaning the data\n",
    "<p>First, we will need to combine the data from the two separate pull DataFrames. </p>\n",
    "<p>Next, the raw data extracted from GitHub contains dates in the ISO8601 format. However, <code>pandas</code> imports them as regular strings. To make our analysis easier, we need to convert the strings into Python's <code>DateTime</code> objects. <code>DateTime</code> objects have the important property that they can be compared and sorted.</p>\n",
    "<p>The pull request times are all in UTC (also known as Coordinated Universal Time). The commit times, however, are in the local time of the author with time zone information (number of hours difference from UTC). To make comparisons easy, we should convert all times to UTC.</p>"
   ]
  },
  {
   "cell_type": "code",
   "execution_count": 26,
   "id": "810b2916",
   "metadata": {
    "collapsed": true,
    "dc": {
     "key": "12"
    },
    "jupyter": {
     "outputs_hidden": true
    },
    "tags": [
     "sample_code"
    ]
   },
   "outputs": [],
   "source": [
    "# Append pulls_one to pulls_two\n",
    "pulls = pulls_one.append(pulls_two)\n",
    "pulls.head()\n",
    "# # Convert the date for the pulls object\n",
    "pulls['date'] = pd.to_datetime(pulls['date'], utc = True)"
   ]
  },
  {
   "cell_type": "markdown",
   "id": "40597a4d",
   "metadata": {
    "dc": {
     "key": "19"
    },
    "deletable": false,
    "editable": false,
    "run_control": {
     "frozen": true
    },
    "tags": [
     "context"
    ]
   },
   "source": [
    "## 3. Merging the DataFrames\n",
    "<p>The data extracted comes in two separate files. Merging the two DataFrames will make it easier for us to analyze the data in the future tasks.</p>"
   ]
  },
  {
   "cell_type": "code",
   "execution_count": 28,
   "id": "a958a268",
   "metadata": {
    "dc": {
     "key": "19"
    },
    "tags": [
     "sample_code"
    ]
   },
   "outputs": [
    {
     "data": {
      "text/html": [
       "<div>\n",
       "<style scoped>\n",
       "    .dataframe tbody tr th:only-of-type {\n",
       "        vertical-align: middle;\n",
       "    }\n",
       "\n",
       "    .dataframe tbody tr th {\n",
       "        vertical-align: top;\n",
       "    }\n",
       "\n",
       "    .dataframe thead th {\n",
       "        text-align: right;\n",
       "    }\n",
       "</style>\n",
       "<table border=\"1\" class=\"dataframe\">\n",
       "  <thead>\n",
       "    <tr style=\"text-align: right;\">\n",
       "      <th></th>\n",
       "      <th>pid</th>\n",
       "      <th>user</th>\n",
       "      <th>date</th>\n",
       "      <th>file</th>\n",
       "    </tr>\n",
       "  </thead>\n",
       "  <tbody>\n",
       "    <tr>\n",
       "      <th>0</th>\n",
       "      <td>11166973</td>\n",
       "      <td>VladimirNik</td>\n",
       "      <td>2013-12-31 23:10:55+00:00</td>\n",
       "      <td>src/reflect/scala/reflect/api/Printers.scala</td>\n",
       "    </tr>\n",
       "    <tr>\n",
       "      <th>1</th>\n",
       "      <td>11166973</td>\n",
       "      <td>VladimirNik</td>\n",
       "      <td>2013-12-31 23:10:55+00:00</td>\n",
       "      <td>src/reflect/scala/reflect/internal/Printers.scala</td>\n",
       "    </tr>\n",
       "    <tr>\n",
       "      <th>2</th>\n",
       "      <td>11166973</td>\n",
       "      <td>VladimirNik</td>\n",
       "      <td>2013-12-31 23:10:55+00:00</td>\n",
       "      <td>test/files/run/reify_ann3.check</td>\n",
       "    </tr>\n",
       "    <tr>\n",
       "      <th>3</th>\n",
       "      <td>11166973</td>\n",
       "      <td>VladimirNik</td>\n",
       "      <td>2013-12-31 23:10:55+00:00</td>\n",
       "      <td>test/junit/scala/reflect/internal/PrintersTest...</td>\n",
       "    </tr>\n",
       "    <tr>\n",
       "      <th>4</th>\n",
       "      <td>11161892</td>\n",
       "      <td>Ichoran</td>\n",
       "      <td>2013-12-31 16:55:47+00:00</td>\n",
       "      <td>src/library/scala/collection/mutable/ArrayOps....</td>\n",
       "    </tr>\n",
       "  </tbody>\n",
       "</table>\n",
       "</div>"
      ],
      "text/plain": [
       "        pid         user                      date  \\\n",
       "0  11166973  VladimirNik 2013-12-31 23:10:55+00:00   \n",
       "1  11166973  VladimirNik 2013-12-31 23:10:55+00:00   \n",
       "2  11166973  VladimirNik 2013-12-31 23:10:55+00:00   \n",
       "3  11166973  VladimirNik 2013-12-31 23:10:55+00:00   \n",
       "4  11161892      Ichoran 2013-12-31 16:55:47+00:00   \n",
       "\n",
       "                                                file  \n",
       "0       src/reflect/scala/reflect/api/Printers.scala  \n",
       "1  src/reflect/scala/reflect/internal/Printers.scala  \n",
       "2                    test/files/run/reify_ann3.check  \n",
       "3  test/junit/scala/reflect/internal/PrintersTest...  \n",
       "4  src/library/scala/collection/mutable/ArrayOps....  "
      ]
     },
     "execution_count": 28,
     "metadata": {},
     "output_type": "execute_result"
    }
   ],
   "source": [
    "# Merge the two DataFrames\n",
    "data = pd.merge(pulls,pull_files, on='pid')\n",
    "data.head()"
   ]
  },
  {
   "cell_type": "markdown",
   "id": "23906bd7",
   "metadata": {
    "dc": {
     "key": "26"
    },
    "deletable": false,
    "editable": false,
    "run_control": {
     "frozen": true
    },
    "tags": [
     "context"
    ]
   },
   "source": [
    "## 4. Is the project still actively maintained?\n",
    "<p>The activity in an open source project is not very consistent. Some projects might be active for many years after the initial release, while others can slowly taper out into oblivion. Before committing to contributing to a project, it is important to understand the state of the project. Is development going steadily, or is there a drop? Has the project been abandoned altogether?</p>\n",
    "<p>The data used in this project was collected in January of 2018. We are interested in the evolution of the number of contributions up to that date.</p>\n",
    "<p>For Scala, we will do this by plotting a chart of the project's activity. We will calculate the number of pull requests submitted each (calendar) month during the project's lifetime. We will then plot these numbers to see the trend of contributions.</p>\n",
    "<ul>\n",
    "<li><p>A helpful reminder of how to access various components of a date can be found in <a href=\"https://campus.datacamp.com/courses/data-manipulation-with-pandas/slicing-and-indexing?ex=12\">this exercise of Data Manipulation with pandas</a></p></li>\n",
    "<li><p>Additionally, recall that you can group by multiple variables by passing a list to <code>groupby()</code>. This video from <a href=\"https://campus.datacamp.com/courses/data-manipulation-with-pandas/aggregating-data-ad6d4643-0e95-470c-8299-f69cc4c83de8?ex=9\">Data Manipulation with pandas</a> should help!</p></li>\n",
    "</ul>"
   ]
  },
  {
   "cell_type": "code",
   "execution_count": 30,
   "id": "fbacc161",
   "metadata": {
    "dc": {
     "key": "26"
    },
    "tags": [
     "sample_code"
    ]
   },
   "outputs": [
    {
     "data": {
      "text/plain": [
       "<matplotlib.axes._subplots.AxesSubplot at 0x7ff0579944a8>"
      ]
     },
     "execution_count": 30,
     "metadata": {},
     "output_type": "execute_result"
    },
    {
     "data": {
      "image/png": "[encoded data removed]",
      "text/plain": [
       "<Figure size 864x288 with 1 Axes>"
      ]
     },
     "metadata": {},
     "output_type": "display_data"
    }
   ],
   "source": [
    "%matplotlib inline\n",
    "\n",
    "# Create a column that will store the month\n",
    "data['month'] = data['date'].dt.month\n",
    "\n",
    "# Create a column that will store the year\n",
    "data['year'] = data['date'].dt.year\n",
    "data\n",
    "# # Group by the month and year and count the pull requests\n",
    "counts = data.groupby(['month','year']).count()\n",
    "# counts\n",
    "# Plot the results\n",
    "counts.plot(kind='bar', figsize = (12,4))"
   ]
  },
  {
   "cell_type": "markdown",
   "id": "294a8994",
   "metadata": {
    "dc": {
     "key": "33"
    },
    "deletable": false,
    "editable": false,
    "run_control": {
     "frozen": true
    },
    "tags": [
     "context"
    ]
   },
   "source": [
    "## 5. Is there camaraderie in the project?\n",
    "<p>The organizational structure varies from one project to another, and it can influence your success as a contributor. A project that has a very small community might not be the best one to start working on. The small community might indicate a high barrier of entry. This can be caused by several factors, including a community that is reluctant to accept pull requests from \"outsiders,\" that the code base is hard to work with, etc. However, a large community can serve as an indicator that the project is regularly accepting pull requests from new contributors. Such a project would be a good place to start.</p>\n",
    "<p>In order to evaluate the dynamics of the community, we will plot a histogram of the number of pull requests submitted by each user. A distribution that shows that there are few people that only contribute a small number of pull requests can be used as in indicator that the project is not welcoming of new contributors. </p>"
   ]
  },
  {
   "cell_type": "code",
   "execution_count": 32,
   "id": "0471599b",
   "metadata": {
    "dc": {
     "key": "33"
    },
    "tags": [
     "sample_code"
    ]
   },
   "outputs": [
    {
     "data": {
      "text/plain": [
       "array([[<matplotlib.axes._subplots.AxesSubplot object at 0x7ff042f02320>]],\n",
       "      dtype=object)"
      ]
     },
     "execution_count": 32,
     "metadata": {},
     "output_type": "execute_result"
    },
    {
     "data": {
      "image/png": "[encoded data removed]",
      "text/plain": [
       "<Figure size 432x288 with 1 Axes>"
      ]
     },
     "metadata": {},
     "output_type": "display_data"
    }
   ],
   "source": [
    "# Required for matplotlib\n",
    "%matplotlib inline\n",
    "\n",
    "# Group by the submitter\n",
    "by_user = data.groupby('user').agg({'pid': 'count'})\n",
    "\n",
    "# Plot the histogram\n",
    "by_user.hist()"
   ]
  },
  {
   "cell_type": "markdown",
   "id": "95efbd10",
   "metadata": {
    "dc": {
     "key": "40"
    },
    "deletable": false,
    "editable": false,
    "run_control": {
     "frozen": true
    },
    "tags": [
     "context"
    ]
   },
   "source": [
    "## 6. What files were changed in the last ten pull requests?\n",
    "<p>Choosing the right place to make a contribution is as important as choosing the project to contribute to. Some parts of the code might be stable, some might be dead. Contributing there might not have the most impact. Therefore it is important to understand the parts of the system that have been recently changed. This allows us to pinpoint the \"hot\" areas of the code where most of the activity is happening. Focusing on those parts might not the most effective use of our times.</p>"
   ]
  },
  {
   "cell_type": "code",
   "execution_count": 34,
   "id": "41090433",
   "metadata": {
    "dc": {
     "key": "40"
    },
    "tags": [
     "sample_code"
    ]
   },
   "outputs": [
    {
     "data": {
      "text/plain": [
       "{'LICENSE',\n",
       " 'doc/LICENSE.md',\n",
       " 'doc/License.rtf',\n",
       " 'project/VersionUtil.scala',\n",
       " 'src/compiler/scala/reflect/reify/phases/Calculate.scala',\n",
       " 'src/compiler/scala/tools/nsc/backend/jvm/BCodeHelpers.scala',\n",
       " 'src/compiler/scala/tools/nsc/backend/jvm/PostProcessor.scala',\n",
       " 'src/compiler/scala/tools/nsc/backend/jvm/analysis/BackendUtils.scala',\n",
       " 'src/compiler/scala/tools/nsc/profile/AsyncHelper.scala',\n",
       " 'src/compiler/scala/tools/nsc/profile/Profiler.scala',\n",
       " 'src/compiler/scala/tools/nsc/symtab/classfile/ClassfileParser.scala',\n",
       " 'src/compiler/scala/tools/nsc/typechecker/Contexts.scala',\n",
       " 'src/library/scala/Predef.scala',\n",
       " 'src/library/scala/concurrent/Lock.scala',\n",
       " 'src/library/scala/util/Properties.scala',\n",
       " 'src/reflect/scala/reflect/internal/pickling/ByteCodecs.scala',\n",
       " 'src/reflect/scala/reflect/internal/tpe/GlbLubs.scala',\n",
       " 'src/scaladoc/scala/tools/nsc/doc/html/page/Entity.scala',\n",
       " 'src/scalap/decoder.properties',\n",
       " 'test/files/neg/leibniz-liskov.check',\n",
       " 'test/files/neg/leibniz-liskov.scala',\n",
       " 'test/files/pos/leibniz-liskov.scala',\n",
       " 'test/files/pos/leibniz_liskov.scala',\n",
       " 'test/files/pos/parallel-classloader.scala',\n",
       " 'test/files/pos/t10568/Converter.java',\n",
       " 'test/files/pos/t10568/Impl.scala',\n",
       " 'test/files/pos/t10686.scala',\n",
       " 'test/files/pos/t5638/Among.java',\n",
       " 'test/files/pos/t5638/Usage.scala',\n",
       " 'test/files/pos/t9291.scala',\n",
       " 'test/files/run/t8348.check',\n",
       " 'test/files/run/t8348/TableColumn.java',\n",
       " 'test/files/run/t8348/TableColumnImpl.java',\n",
       " 'test/files/run/t8348/Test.scala'}"
      ]
     },
     "execution_count": 34,
     "metadata": {},
     "output_type": "execute_result"
    }
   ],
   "source": [
    "# Identify the last 10 pull requests\n",
    "last_10 = pulls.sort_values(by = 'date').tail(10)\n",
    "last_10\n",
    "\n",
    "# Join the two data sets\n",
    "joined_pr = pull_files.merge(last_10, on='pid')\n",
    "\n",
    "# Identify the unique files\n",
    "files = set(joined_pr['file'])\n",
    "\n",
    "# Print the results\n",
    "files"
   ]
  },
  {
   "cell_type": "code",
   "execution_count": 35,
   "id": "0d6fde92",
   "metadata": {
    "dc": {
     "key": "40"
    }
   },
   "outputs": [
    {
     "data": {
      "text/html": [
       "<div>\n",
       "<style scoped>\n",
       "    .dataframe tbody tr th:only-of-type {\n",
       "        vertical-align: middle;\n",
       "    }\n",
       "\n",
       "    .dataframe tbody tr th {\n",
       "        vertical-align: top;\n",
       "    }\n",
       "\n",
       "    .dataframe thead th {\n",
       "        text-align: right;\n",
       "    }\n",
       "</style>\n",
       "<table border=\"1\" class=\"dataframe\">\n",
       "  <thead>\n",
       "    <tr style=\"text-align: right;\">\n",
       "      <th></th>\n",
       "      <th>pid</th>\n",
       "      <th>user</th>\n",
       "      <th>date</th>\n",
       "    </tr>\n",
       "  </thead>\n",
       "  <tbody>\n",
       "    <tr>\n",
       "      <th>9</th>\n",
       "      <td>162011899</td>\n",
       "      <td>joroKr21</td>\n",
       "      <td>2018-01-10 00:45:57+00:00</td>\n",
       "    </tr>\n",
       "    <tr>\n",
       "      <th>8</th>\n",
       "      <td>162197834</td>\n",
       "      <td>SethTisue</td>\n",
       "      <td>2018-01-10 18:31:25+00:00</td>\n",
       "    </tr>\n",
       "    <tr>\n",
       "      <th>7</th>\n",
       "      <td>162256029</td>\n",
       "      <td>mkeskells</td>\n",
       "      <td>2018-01-10 23:20:03+00:00</td>\n",
       "    </tr>\n",
       "    <tr>\n",
       "      <th>6</th>\n",
       "      <td>162643301</td>\n",
       "      <td>hrhino</td>\n",
       "      <td>2018-01-12 14:29:49+00:00</td>\n",
       "    </tr>\n",
       "    <tr>\n",
       "      <th>5</th>\n",
       "      <td>162765232</td>\n",
       "      <td>howtonotwin</td>\n",
       "      <td>2018-01-13 04:37:17+00:00</td>\n",
       "    </tr>\n",
       "    <tr>\n",
       "      <th>4</th>\n",
       "      <td>162838837</td>\n",
       "      <td>zuvizudar</td>\n",
       "      <td>2018-01-14 19:16:16+00:00</td>\n",
       "    </tr>\n",
       "    <tr>\n",
       "      <th>3</th>\n",
       "      <td>162985594</td>\n",
       "      <td>lrytz</td>\n",
       "      <td>2018-01-15 15:52:39+00:00</td>\n",
       "    </tr>\n",
       "    <tr>\n",
       "      <th>2</th>\n",
       "      <td>163057333</td>\n",
       "      <td>mkeskells</td>\n",
       "      <td>2018-01-15 23:05:06+00:00</td>\n",
       "    </tr>\n",
       "    <tr>\n",
       "      <th>1</th>\n",
       "      <td>163061502</td>\n",
       "      <td>joroKr21</td>\n",
       "      <td>2018-01-15 23:44:52+00:00</td>\n",
       "    </tr>\n",
       "    <tr>\n",
       "      <th>0</th>\n",
       "      <td>163314316</td>\n",
       "      <td>hrhino</td>\n",
       "      <td>2018-01-16 23:29:16+00:00</td>\n",
       "    </tr>\n",
       "  </tbody>\n",
       "</table>\n",
       "</div>"
      ],
      "text/plain": [
       "         pid         user                      date\n",
       "9  162011899     joroKr21 2018-01-10 00:45:57+00:00\n",
       "8  162197834    SethTisue 2018-01-10 18:31:25+00:00\n",
       "7  162256029    mkeskells 2018-01-10 23:20:03+00:00\n",
       "6  162643301       hrhino 2018-01-12 14:29:49+00:00\n",
       "5  162765232  howtonotwin 2018-01-13 04:37:17+00:00\n",
       "4  162838837    zuvizudar 2018-01-14 19:16:16+00:00\n",
       "3  162985594        lrytz 2018-01-15 15:52:39+00:00\n",
       "2  163057333    mkeskells 2018-01-15 23:05:06+00:00\n",
       "1  163061502     joroKr21 2018-01-15 23:44:52+00:00\n",
       "0  163314316       hrhino 2018-01-16 23:29:16+00:00"
      ]
     },
     "execution_count": 35,
     "metadata": {},
     "output_type": "execute_result"
    }
   ],
   "source": [
    "last_10"
   ]
  },
  {
   "cell_type": "markdown",
   "id": "bbc055f6",
   "metadata": {
    "dc": {
     "key": "47"
    },
    "deletable": false,
    "editable": false,
    "run_control": {
     "frozen": true
    },
    "tags": [
     "context"
    ]
   },
   "source": [
    "## 7. Who made the most pull requests to a given file?\n",
    "<p>When contributing to a project, we might need some guidance. We might find ourselves needing some information regarding the codebase. It is important direct any questions to the right person. Contributors to open source projects generally have other day jobs, so their time is limited. It is important to address our questions to the right people. One way to identify the right target for our inquiries is by using their contribution history.</p>\n",
    "<p>We identified <code>src/compiler/scala/reflect/reify/phases/Calculate.scala</code> as being recently changed. We are interested in the top 3 developers who changed that file. Those developers are the ones most likely to have the best understanding of the code.</p>"
   ]
  },
  {
   "cell_type": "code",
   "execution_count": 37,
   "id": "a5ccab50",
   "metadata": {
    "dc": {
     "key": "47"
    },
    "tags": [
     "sample_code"
    ]
   },
   "outputs": [
    {
     "name": "stdout",
     "output_type": "stream",
     "text": [
      "          pid  date  file  month  year\n",
      "user                                  \n",
      "xeno-by    11    11    11     11    11\n",
      "retronym    5     5     5      5     5\n",
      "soc         4     4     4      4     4\n"
     ]
    }
   ],
   "source": [
    "# This is the file we are interested in:\n",
    "file = 'src/compiler/scala/reflect/reify/phases/Calculate.scala'\n",
    "\n",
    "# Identify the commits that changed the file\n",
    "file_pr = data[data['file'] == file]\n",
    "\n",
    "# Count the number of changes made by each developer\n",
    "author_counts = file_pr.groupby('user').count()\n",
    "# author_counts = file_pr.groupby('file').count()\n",
    "# Print the top 3 developers\n",
    "print(author_counts.nlargest(3, 'file'))"
   ]
  },
  {
   "cell_type": "markdown",
   "id": "f8baad5f",
   "metadata": {
    "dc": {
     "key": "54"
    },
    "deletable": false,
    "editable": false,
    "run_control": {
     "frozen": true
    },
    "tags": [
     "context"
    ]
   },
   "source": [
    "## 8. Who made the last ten pull requests on a given file?\n",
    "<p>Open source projects suffer from fluctuating membership. This makes the problem of finding the right person more challenging: the person has to be knowledgeable <em>and</em> still be involved in the project. A person that contributed a lot in the past might no longer be available (or willing) to help. To get a better understanding, we need to investigate the more recent history of that particular part of the system. </p>\n",
    "<p>Like in the previous task, we will look at the history of  <code>src/compiler/scala/reflect/reify/phases/Calculate.scala</code>.</p>"
   ]
  },
  {
   "cell_type": "code",
   "execution_count": 39,
   "id": "fa7a4273",
   "metadata": {
    "dc": {
     "key": "54"
    },
    "tags": [
     "sample_code"
    ]
   },
   "outputs": [
    {
     "data": {
      "text/plain": [
       "{'bjornregnell', 'retronym', 'soc', 'starblood', 'xeno-by', 'zuvizudar'}"
      ]
     },
     "execution_count": 39,
     "metadata": {},
     "output_type": "execute_result"
    }
   ],
   "source": [
    "file = 'src/compiler/scala/reflect/reify/phases/Calculate.scala'\n",
    "\n",
    "# Select the pull requests that changed the target file\n",
    "file_pr = pull_files[pull_files['file'] == file]\n",
    "\n",
    "# Merge the obtained results with the pulls DataFrame\n",
    "joined_pr = pulls.merge(file_pr, on = 'pid')\n",
    "\n",
    "# Find the users of the last 10 most recent pull requests\n",
    "users_last_10 = set(joined_pr.nlargest(10,'date')['user'])\n",
    "\n",
    "# Printing the results\n",
    "users_last_10"
   ]
  },
  {
   "cell_type": "markdown",
   "id": "1207d986",
   "metadata": {
    "dc": {
     "key": "61"
    },
    "deletable": false,
    "editable": false,
    "run_control": {
     "frozen": true
    },
    "tags": [
     "context"
    ]
   },
   "source": [
    "## 9. The pull requests of two special developers\n",
    "<p>Now that we have identified two potential contacts in the projects, we need to find the person who was most involved in the project in recent times. That person is most likely to answer our questions. For each calendar year, we are interested in understanding the number of pull requests the authors submitted. This will give us a high-level image of their contribution trend to the project.</p>"
   ]
  },
  {
   "cell_type": "code",
   "execution_count": 41,
   "id": "2c4ecfda",
   "metadata": {
    "dc": {
     "key": "61"
    },
    "tags": [
     "sample_code"
    ]
   },
   "outputs": [
    {
     "data": {
      "text/plain": [
       "<matplotlib.axes._subplots.AxesSubplot at 0x7ff042d7bcc0>"
      ]
     },
     "execution_count": 41,
     "metadata": {},
     "output_type": "execute_result"
    },
    {
     "data": {
      "image/png": "[encoded data removed]",
      "text/plain": [
       "<Figure size 432x288 with 1 Axes>"
      ]
     },
     "metadata": {},
     "output_type": "display_data"
    }
   ],
   "source": [
    "%matplotlib inline\n",
    "\n",
    "# The developers we are interested in\n",
    "authors = ['xeno-by', 'soc']\n",
    "\n",
    "# Get all the developers' pull requests\n",
    "by_author = pulls[pulls['user'].isin(authors)]\n",
    "\n",
    "# Count the number of pull requests submitted each year\n",
    "counts = by_author.groupby([by_author['user'], by_author['date'].dt.year]).agg({'pid': 'count'}).reset_index()\n",
    "\n",
    "# Convert the table to a wide format\n",
    "counts_wide = counts.pivot_table(index='date', columns='user', values='pid', fill_value=0)\n",
    "\n",
    "# # Plot the results\n",
    "counts_wide.plot(kind='bar')"
   ]
  },
  {
   "cell_type": "markdown",
   "id": "39ba7ba0",
   "metadata": {
    "dc": {
     "key": "68"
    },
    "deletable": false,
    "editable": false,
    "run_control": {
     "frozen": true
    },
    "tags": [
     "context"
    ]
   },
   "source": [
    "## 10. Visualizing the contributions of each developer\n",
    "<p>As mentioned before, it is important to make a distinction between the global expertise and contribution levels and the contribution levels at a more granular level (file, submodule, etc.) In our case, we want to see which of our two developers of interest have the most experience with the code in a given file. We will measure experience by the number of pull requests submitted that affect that file and how recent those pull requests were submitted.</p>"
   ]
  },
  {
   "cell_type": "code",
   "execution_count": 56,
   "id": "3dc25d42",
   "metadata": {
    "dc": {
     "key": "68"
    },
    "tags": [
     "sample_code"
    ]
   },
   "outputs": [
    {
     "name": "stdout",
     "output_type": "stream",
     "text": [
      "             pid          user                      date  \\\n",
      "1234    10587633      retronym 2013-12-06 10:04:43+00:00   \n",
      "12514    5320191           soc 2013-04-23 15:47:45+00:00   \n",
      "12823    5291974  bjornregnell 2013-04-22 13:56:06+00:00   \n",
      "13381    5050360      retronym 2013-04-09 06:13:57+00:00   \n",
      "13779    5026775      retronym 2013-04-08 07:07:45+00:00   \n",
      "14970    4786005     starblood 2013-03-25 02:48:48+00:00   \n",
      "17127    4295399      retronym 2013-02-24 21:43:43+00:00   \n",
      "18341    4019878           soc 2013-02-06 18:24:21+00:00   \n",
      "19174    3918789  gkossakowski 2013-01-31 00:43:19+00:00   \n",
      "19834    3854688        melloc 2013-01-26 22:47:32+00:00   \n",
      "24668    3290864         densh 2012-12-08 15:18:04+00:00   \n",
      "27074    2919907         paulp 2012-11-07 21:13:47+00:00   \n",
      "28951    2721711           soc 2012-10-21 19:58:20+00:00   \n",
      "35284    2089264         paulp 2012-08-17 16:15:26+00:00   \n",
      "35498    2072662       xeno-by 2012-08-16 05:39:22+00:00   \n",
      "35608    2071228       xeno-by 2012-08-15 23:41:59+00:00   \n",
      "36860    1984445           soc 2012-08-06 18:38:28+00:00   \n",
      "42404    1522783       xeno-by 2012-06-08 13:43:35+00:00   \n",
      "42712    1522613       xeno-by 2012-06-08 13:22:10+00:00   \n",
      "43102    1482038       xeno-by 2012-06-03 18:01:36+00:00   \n",
      "43435    1482035       xeno-by 2012-06-03 18:00:39+00:00   \n",
      "43751    1480230       xeno-by 2012-06-02 17:20:02+00:00   \n",
      "46086    1210959       xeno-by 2012-04-22 22:50:51+00:00   \n",
      "46789    1164069       odersky 2012-04-14 02:21:49+00:00   \n",
      "47089    1163831       odersky 2012-04-14 00:40:37+00:00   \n",
      "47702    1150233       xeno-by 2012-04-12 10:25:43+00:00   \n",
      "48016    1148013       xeno-by 2012-04-12 00:05:33+00:00   \n",
      "51415  162838837     zuvizudar 2018-01-14 19:16:16+00:00   \n",
      "78353   22845163      retronym 2014-10-16 10:23:42+00:00   \n",
      "84155   12102550       xeno-by 2014-02-01 01:19:58+00:00   \n",
      "\n",
      "                                                    file  month  year  \n",
      "1234   src/compiler/scala/reflect/reify/phases/Calcul...     12  2013  \n",
      "12514  src/compiler/scala/reflect/reify/phases/Calcul...      4  2013  \n",
      "12823  src/compiler/scala/reflect/reify/phases/Calcul...      4  2013  \n",
      "13381  src/compiler/scala/reflect/reify/phases/Calcul...      4  2013  \n",
      "13779  src/compiler/scala/reflect/reify/phases/Calcul...      4  2013  \n",
      "14970  src/compiler/scala/reflect/reify/phases/Calcul...      3  2013  \n",
      "17127  src/compiler/scala/reflect/reify/phases/Calcul...      2  2013  \n",
      "18341  src/compiler/scala/reflect/reify/phases/Calcul...      2  2013  \n",
      "19174  src/compiler/scala/reflect/reify/phases/Calcul...      1  2013  \n",
      "19834  src/compiler/scala/reflect/reify/phases/Calcul...      1  2013  \n",
      "24668  src/compiler/scala/reflect/reify/phases/Calcul...     12  2012  \n",
      "27074  src/compiler/scala/reflect/reify/phases/Calcul...     11  2012  \n",
      "28951  src/compiler/scala/reflect/reify/phases/Calcul...     10  2012  \n",
      "35284  src/compiler/scala/reflect/reify/phases/Calcul...      8  2012  \n",
      "35498  src/compiler/scala/reflect/reify/phases/Calcul...      8  2012  \n",
      "35608  src/compiler/scala/reflect/reify/phases/Calcul...      8  2012  \n",
      "36860  src/compiler/scala/reflect/reify/phases/Calcul...      8  2012  \n",
      "42404  src/compiler/scala/reflect/reify/phases/Calcul...      6  2012  \n",
      "42712  src/compiler/scala/reflect/reify/phases/Calcul...      6  2012  \n",
      "43102  src/compiler/scala/reflect/reify/phases/Calcul...      6  2012  \n",
      "43435  src/compiler/scala/reflect/reify/phases/Calcul...      6  2012  \n",
      "43751  src/compiler/scala/reflect/reify/phases/Calcul...      6  2012  \n",
      "46086  src/compiler/scala/reflect/reify/phases/Calcul...      4  2012  \n",
      "46789  src/compiler/scala/reflect/reify/phases/Calcul...      4  2012  \n",
      "47089  src/compiler/scala/reflect/reify/phases/Calcul...      4  2012  \n",
      "47702  src/compiler/scala/reflect/reify/phases/Calcul...      4  2012  \n",
      "48016  src/compiler/scala/reflect/reify/phases/Calcul...      4  2012  \n",
      "51415  src/compiler/scala/reflect/reify/phases/Calcul...      1  2018  \n",
      "78353  src/compiler/scala/reflect/reify/phases/Calcul...     10  2014  \n",
      "84155  src/compiler/scala/reflect/reify/phases/Calcul...      2  2014  \n"
     ]
    }
   ],
   "source": [
    "authors = ['xeno-by', 'soc']\n",
    "file = 'src/compiler/scala/reflect/reify/phases/Calculate.scala'\n",
    "\n",
    "# Select the pull requests submitted by the authors, from the `data` DataFrame\n",
    "by_author = data[data['file'] == file]\n",
    "print(by_author)\n",
    "# Select the pull requests that affect the file\n",
    "by_file = pulls[pulls['user'].isin(by_author)]\n",
    "by_file\n",
    "# # Group and count the number of PRs done by each user each year\n",
    "# grouped = by_file.groupby(['user', by_file['date'].dt.year]).count()['pid'].reset_index()\n",
    "# grouped\n",
    "# # Transform the data into a wide format\n",
    "# by_file_wide = by_file.pivot_table(index='date', columns='user', values='pid', fill_value=0)\n",
    "# by_file_wide\n",
    "# # Plot the results\n",
    "# by_file_wide.plot('year','user',kind='bar')"
   ]
  }
 ],
 "metadata": {
  "kernelspec": {
   "display_name": "Python 3 (ipykernel)",
   "language": "python",
   "name": "python3"
  },
  "language_info": {
   "codemirror_mode": {
    "name": "ipython",
    "version": 3
   },
   "file_extension": ".py",
   "mimetype": "text/x-python",
   "name": "python",
   "nbconvert_exporter": "python",
   "pygments_lexer": "ipython3",
   "version": "3.8.10"
  }
 },
 "nbformat": 4,
 "nbformat_minor": 5
}
